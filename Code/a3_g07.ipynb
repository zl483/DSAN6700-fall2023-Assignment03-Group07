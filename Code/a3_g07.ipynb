{
  "cells": [
    {
      "cell_type": "markdown",
      "metadata": {
        "id": "t7Ib2T_lrelN"
      },
      "source": [
        "# Assignment 03\n",
        "\n",
        "Hyperparameter Tunning - Group 07\n",
        "Tianqi Zhou -- tz232 Zixuan Li -- zl483 Yifei Wu -- yw924\n"
      ]
    },
    {
      "cell_type": "markdown",
      "metadata": {
        "id": "n0b-Tbpxr6qu"
      },
      "source": [
        "## 6 Data Preparation (7 Points)\n"
      ]
    },
    {
      "cell_type": "code",
      "execution_count": 6,
      "metadata": {
        "id": "s6Oa6Y2zreIT"
      },
      "outputs": [],
      "source": [
        "# Add data preparation code here\n",
        "import numpy as np\n",
        "import pandas as pd\n"
      ]
    },
    {
      "cell_type": "markdown",
      "metadata": {
        "id": "rMUHWqkNr_pu"
      },
      "source": [
        "### **6.1** Load the dataset and display the dataframe (2 Points).\n"
      ]
    },
    {
      "cell_type": "code",
      "execution_count": 4,
      "metadata": {
        "colab": {
          "base_uri": "https://localhost:8080/",
          "height": 226
        },
        "id": "ZYydgv4WsIzQ",
        "outputId": "ac4be3c9-e061-44e4-9413-ead63828fdd4"
      },
      "outputs": [
        {
          "data": {
            "text/html": [
              "<div>\n",
              "<style scoped>\n",
              "    .dataframe tbody tr th:only-of-type {\n",
              "        vertical-align: middle;\n",
              "    }\n",
              "\n",
              "    .dataframe tbody tr th {\n",
              "        vertical-align: top;\n",
              "    }\n",
              "\n",
              "    .dataframe thead th {\n",
              "        text-align: right;\n",
              "    }\n",
              "</style>\n",
              "<table border=\"1\" class=\"dataframe\">\n",
              "  <thead>\n",
              "    <tr style=\"text-align: right;\">\n",
              "      <th></th>\n",
              "      <th>Administrative</th>\n",
              "      <th>Administrative_Duration</th>\n",
              "      <th>Informational</th>\n",
              "      <th>Informational_Duration</th>\n",
              "      <th>ProductRelated</th>\n",
              "      <th>ProductRelated_Duration</th>\n",
              "      <th>BounceRates</th>\n",
              "      <th>ExitRates</th>\n",
              "      <th>PageValues</th>\n",
              "      <th>SpecialDay</th>\n",
              "      <th>Month</th>\n",
              "      <th>OperatingSystems</th>\n",
              "      <th>Browser</th>\n",
              "      <th>Region</th>\n",
              "      <th>TrafficType</th>\n",
              "      <th>VisitorType</th>\n",
              "      <th>Weekend</th>\n",
              "      <th>Revenue</th>\n",
              "    </tr>\n",
              "  </thead>\n",
              "  <tbody>\n",
              "    <tr>\n",
              "      <th>0</th>\n",
              "      <td>0</td>\n",
              "      <td>0.0</td>\n",
              "      <td>0</td>\n",
              "      <td>0.0</td>\n",
              "      <td>1</td>\n",
              "      <td>0.000000</td>\n",
              "      <td>0.20</td>\n",
              "      <td>0.20</td>\n",
              "      <td>0.0</td>\n",
              "      <td>0.0</td>\n",
              "      <td>2</td>\n",
              "      <td>1</td>\n",
              "      <td>1</td>\n",
              "      <td>1</td>\n",
              "      <td>1</td>\n",
              "      <td>2</td>\n",
              "      <td>0</td>\n",
              "      <td>False</td>\n",
              "    </tr>\n",
              "    <tr>\n",
              "      <th>1</th>\n",
              "      <td>0</td>\n",
              "      <td>0.0</td>\n",
              "      <td>0</td>\n",
              "      <td>0.0</td>\n",
              "      <td>2</td>\n",
              "      <td>64.000000</td>\n",
              "      <td>0.00</td>\n",
              "      <td>0.10</td>\n",
              "      <td>0.0</td>\n",
              "      <td>0.0</td>\n",
              "      <td>2</td>\n",
              "      <td>2</td>\n",
              "      <td>2</td>\n",
              "      <td>1</td>\n",
              "      <td>2</td>\n",
              "      <td>2</td>\n",
              "      <td>0</td>\n",
              "      <td>False</td>\n",
              "    </tr>\n",
              "    <tr>\n",
              "      <th>2</th>\n",
              "      <td>0</td>\n",
              "      <td>0.0</td>\n",
              "      <td>0</td>\n",
              "      <td>0.0</td>\n",
              "      <td>1</td>\n",
              "      <td>0.000000</td>\n",
              "      <td>0.20</td>\n",
              "      <td>0.20</td>\n",
              "      <td>0.0</td>\n",
              "      <td>0.0</td>\n",
              "      <td>2</td>\n",
              "      <td>4</td>\n",
              "      <td>1</td>\n",
              "      <td>9</td>\n",
              "      <td>3</td>\n",
              "      <td>2</td>\n",
              "      <td>0</td>\n",
              "      <td>False</td>\n",
              "    </tr>\n",
              "    <tr>\n",
              "      <th>3</th>\n",
              "      <td>0</td>\n",
              "      <td>0.0</td>\n",
              "      <td>0</td>\n",
              "      <td>0.0</td>\n",
              "      <td>2</td>\n",
              "      <td>2.666667</td>\n",
              "      <td>0.05</td>\n",
              "      <td>0.14</td>\n",
              "      <td>0.0</td>\n",
              "      <td>0.0</td>\n",
              "      <td>2</td>\n",
              "      <td>3</td>\n",
              "      <td>2</td>\n",
              "      <td>2</td>\n",
              "      <td>4</td>\n",
              "      <td>2</td>\n",
              "      <td>0</td>\n",
              "      <td>False</td>\n",
              "    </tr>\n",
              "    <tr>\n",
              "      <th>4</th>\n",
              "      <td>0</td>\n",
              "      <td>0.0</td>\n",
              "      <td>0</td>\n",
              "      <td>0.0</td>\n",
              "      <td>10</td>\n",
              "      <td>627.500000</td>\n",
              "      <td>0.02</td>\n",
              "      <td>0.05</td>\n",
              "      <td>0.0</td>\n",
              "      <td>0.0</td>\n",
              "      <td>2</td>\n",
              "      <td>3</td>\n",
              "      <td>3</td>\n",
              "      <td>1</td>\n",
              "      <td>4</td>\n",
              "      <td>2</td>\n",
              "      <td>1</td>\n",
              "      <td>False</td>\n",
              "    </tr>\n",
              "  </tbody>\n",
              "</table>\n",
              "</div>"
            ],
            "text/plain": [
              "   Administrative  Administrative_Duration  Informational  \\\n",
              "0               0                      0.0              0   \n",
              "1               0                      0.0              0   \n",
              "2               0                      0.0              0   \n",
              "3               0                      0.0              0   \n",
              "4               0                      0.0              0   \n",
              "\n",
              "   Informational_Duration  ProductRelated  ProductRelated_Duration  \\\n",
              "0                     0.0               1                 0.000000   \n",
              "1                     0.0               2                64.000000   \n",
              "2                     0.0               1                 0.000000   \n",
              "3                     0.0               2                 2.666667   \n",
              "4                     0.0              10               627.500000   \n",
              "\n",
              "   BounceRates  ExitRates  PageValues  SpecialDay  Month  OperatingSystems  \\\n",
              "0         0.20       0.20         0.0         0.0      2                 1   \n",
              "1         0.00       0.10         0.0         0.0      2                 2   \n",
              "2         0.20       0.20         0.0         0.0      2                 4   \n",
              "3         0.05       0.14         0.0         0.0      2                 3   \n",
              "4         0.02       0.05         0.0         0.0      2                 3   \n",
              "\n",
              "   Browser  Region  TrafficType  VisitorType  Weekend  Revenue  \n",
              "0        1       1            1            2        0    False  \n",
              "1        2       1            2            2        0    False  \n",
              "2        1       9            3            2        0    False  \n",
              "3        2       2            4            2        0    False  \n",
              "4        3       1            4            2        1    False  "
            ]
          },
          "execution_count": 4,
          "metadata": {},
          "output_type": "execute_result"
        }
      ],
      "source": [
        "# Add code here\n",
        "g07_df = pd.read_csv(\"../Data/Cleaned/a3_cleaned_data.csv\")\n",
        "g07_df.head()\n"
      ]
    },
    {
      "cell_type": "code",
      "execution_count": 5,
      "metadata": {
        "colab": {
          "base_uri": "https://localhost:8080/"
        },
        "id": "XFkzoR7pzJ-D",
        "outputId": "2f84ce5b-73b4-4907-adc3-6231c0acab61"
      },
      "outputs": [
        {
          "data": {
            "text/plain": [
              "Administrative             0\n",
              "Administrative_Duration    0\n",
              "Informational              0\n",
              "Informational_Duration     0\n",
              "ProductRelated             0\n",
              "ProductRelated_Duration    0\n",
              "BounceRates                0\n",
              "ExitRates                  0\n",
              "PageValues                 0\n",
              "SpecialDay                 0\n",
              "Month                      0\n",
              "OperatingSystems           0\n",
              "Browser                    0\n",
              "Region                     0\n",
              "TrafficType                0\n",
              "VisitorType                0\n",
              "Weekend                    0\n",
              "Revenue                    0\n",
              "dtype: int64"
            ]
          },
          "execution_count": 5,
          "metadata": {},
          "output_type": "execute_result"
        }
      ],
      "source": [
        "g07_df.isna().sum()\n"
      ]
    },
    {
      "cell_type": "markdown",
      "metadata": {
        "id": "djzcgXz6sLCL"
      },
      "source": [
        "### 6.2 Use describe to provide statistics on the pandas Dataframe (2 Points).\n"
      ]
    },
    {
      "cell_type": "code",
      "execution_count": 6,
      "metadata": {
        "colab": {
          "base_uri": "https://localhost:8080/",
          "height": 320
        },
        "id": "KDRzl4JssW1t",
        "outputId": "d3b4f758-5b41-4f9f-dab7-7918d8535893"
      },
      "outputs": [
        {
          "data": {
            "text/html": [
              "<div>\n",
              "<style scoped>\n",
              "    .dataframe tbody tr th:only-of-type {\n",
              "        vertical-align: middle;\n",
              "    }\n",
              "\n",
              "    .dataframe tbody tr th {\n",
              "        vertical-align: top;\n",
              "    }\n",
              "\n",
              "    .dataframe thead th {\n",
              "        text-align: right;\n",
              "    }\n",
              "</style>\n",
              "<table border=\"1\" class=\"dataframe\">\n",
              "  <thead>\n",
              "    <tr style=\"text-align: right;\">\n",
              "      <th></th>\n",
              "      <th>Administrative</th>\n",
              "      <th>Administrative_Duration</th>\n",
              "      <th>Informational</th>\n",
              "      <th>Informational_Duration</th>\n",
              "      <th>ProductRelated</th>\n",
              "      <th>ProductRelated_Duration</th>\n",
              "      <th>BounceRates</th>\n",
              "      <th>ExitRates</th>\n",
              "      <th>PageValues</th>\n",
              "      <th>SpecialDay</th>\n",
              "      <th>Month</th>\n",
              "      <th>OperatingSystems</th>\n",
              "      <th>Browser</th>\n",
              "      <th>Region</th>\n",
              "      <th>TrafficType</th>\n",
              "      <th>VisitorType</th>\n",
              "      <th>Weekend</th>\n",
              "    </tr>\n",
              "  </thead>\n",
              "  <tbody>\n",
              "    <tr>\n",
              "      <th>count</th>\n",
              "      <td>12330.000000</td>\n",
              "      <td>12330.000000</td>\n",
              "      <td>12330.000000</td>\n",
              "      <td>12330.000000</td>\n",
              "      <td>12330.000000</td>\n",
              "      <td>12330.000000</td>\n",
              "      <td>12330.000000</td>\n",
              "      <td>12330.000000</td>\n",
              "      <td>12330.000000</td>\n",
              "      <td>12330.000000</td>\n",
              "      <td>12330.000000</td>\n",
              "      <td>12330.000000</td>\n",
              "      <td>12330.000000</td>\n",
              "      <td>12330.000000</td>\n",
              "      <td>12330.000000</td>\n",
              "      <td>12330.000000</td>\n",
              "      <td>12330.000000</td>\n",
              "    </tr>\n",
              "    <tr>\n",
              "      <th>mean</th>\n",
              "      <td>2.315166</td>\n",
              "      <td>80.818611</td>\n",
              "      <td>0.503569</td>\n",
              "      <td>34.472398</td>\n",
              "      <td>31.731468</td>\n",
              "      <td>1194.746220</td>\n",
              "      <td>0.022191</td>\n",
              "      <td>0.043073</td>\n",
              "      <td>5.889258</td>\n",
              "      <td>0.061427</td>\n",
              "      <td>7.651987</td>\n",
              "      <td>2.124006</td>\n",
              "      <td>2.357097</td>\n",
              "      <td>3.147364</td>\n",
              "      <td>4.069586</td>\n",
              "      <td>1.718329</td>\n",
              "      <td>0.232603</td>\n",
              "    </tr>\n",
              "    <tr>\n",
              "      <th>std</th>\n",
              "      <td>3.321784</td>\n",
              "      <td>176.779107</td>\n",
              "      <td>1.270156</td>\n",
              "      <td>140.749294</td>\n",
              "      <td>44.475503</td>\n",
              "      <td>1913.669288</td>\n",
              "      <td>0.048488</td>\n",
              "      <td>0.048597</td>\n",
              "      <td>18.568437</td>\n",
              "      <td>0.198917</td>\n",
              "      <td>3.392841</td>\n",
              "      <td>0.911325</td>\n",
              "      <td>1.717277</td>\n",
              "      <td>2.401591</td>\n",
              "      <td>4.025169</td>\n",
              "      <td>0.690759</td>\n",
              "      <td>0.422509</td>\n",
              "    </tr>\n",
              "    <tr>\n",
              "      <th>min</th>\n",
              "      <td>0.000000</td>\n",
              "      <td>0.000000</td>\n",
              "      <td>0.000000</td>\n",
              "      <td>0.000000</td>\n",
              "      <td>0.000000</td>\n",
              "      <td>0.000000</td>\n",
              "      <td>0.000000</td>\n",
              "      <td>0.000000</td>\n",
              "      <td>0.000000</td>\n",
              "      <td>0.000000</td>\n",
              "      <td>2.000000</td>\n",
              "      <td>1.000000</td>\n",
              "      <td>1.000000</td>\n",
              "      <td>1.000000</td>\n",
              "      <td>1.000000</td>\n",
              "      <td>0.000000</td>\n",
              "      <td>0.000000</td>\n",
              "    </tr>\n",
              "    <tr>\n",
              "      <th>25%</th>\n",
              "      <td>0.000000</td>\n",
              "      <td>0.000000</td>\n",
              "      <td>0.000000</td>\n",
              "      <td>0.000000</td>\n",
              "      <td>7.000000</td>\n",
              "      <td>184.137500</td>\n",
              "      <td>0.000000</td>\n",
              "      <td>0.014286</td>\n",
              "      <td>0.000000</td>\n",
              "      <td>0.000000</td>\n",
              "      <td>5.000000</td>\n",
              "      <td>2.000000</td>\n",
              "      <td>2.000000</td>\n",
              "      <td>1.000000</td>\n",
              "      <td>2.000000</td>\n",
              "      <td>2.000000</td>\n",
              "      <td>0.000000</td>\n",
              "    </tr>\n",
              "    <tr>\n",
              "      <th>50%</th>\n",
              "      <td>1.000000</td>\n",
              "      <td>7.500000</td>\n",
              "      <td>0.000000</td>\n",
              "      <td>0.000000</td>\n",
              "      <td>18.000000</td>\n",
              "      <td>598.936905</td>\n",
              "      <td>0.003112</td>\n",
              "      <td>0.025156</td>\n",
              "      <td>0.000000</td>\n",
              "      <td>0.000000</td>\n",
              "      <td>7.000000</td>\n",
              "      <td>2.000000</td>\n",
              "      <td>2.000000</td>\n",
              "      <td>3.000000</td>\n",
              "      <td>2.000000</td>\n",
              "      <td>2.000000</td>\n",
              "      <td>0.000000</td>\n",
              "    </tr>\n",
              "    <tr>\n",
              "      <th>75%</th>\n",
              "      <td>4.000000</td>\n",
              "      <td>93.256250</td>\n",
              "      <td>0.000000</td>\n",
              "      <td>0.000000</td>\n",
              "      <td>38.000000</td>\n",
              "      <td>1464.157214</td>\n",
              "      <td>0.016813</td>\n",
              "      <td>0.050000</td>\n",
              "      <td>0.000000</td>\n",
              "      <td>0.000000</td>\n",
              "      <td>11.000000</td>\n",
              "      <td>3.000000</td>\n",
              "      <td>2.000000</td>\n",
              "      <td>4.000000</td>\n",
              "      <td>4.000000</td>\n",
              "      <td>2.000000</td>\n",
              "      <td>0.000000</td>\n",
              "    </tr>\n",
              "    <tr>\n",
              "      <th>max</th>\n",
              "      <td>27.000000</td>\n",
              "      <td>3398.750000</td>\n",
              "      <td>24.000000</td>\n",
              "      <td>2549.375000</td>\n",
              "      <td>705.000000</td>\n",
              "      <td>63973.522230</td>\n",
              "      <td>0.200000</td>\n",
              "      <td>0.200000</td>\n",
              "      <td>361.763742</td>\n",
              "      <td>1.000000</td>\n",
              "      <td>12.000000</td>\n",
              "      <td>8.000000</td>\n",
              "      <td>13.000000</td>\n",
              "      <td>9.000000</td>\n",
              "      <td>20.000000</td>\n",
              "      <td>2.000000</td>\n",
              "      <td>1.000000</td>\n",
              "    </tr>\n",
              "  </tbody>\n",
              "</table>\n",
              "</div>"
            ],
            "text/plain": [
              "       Administrative  Administrative_Duration  Informational  \\\n",
              "count    12330.000000             12330.000000   12330.000000   \n",
              "mean         2.315166                80.818611       0.503569   \n",
              "std          3.321784               176.779107       1.270156   \n",
              "min          0.000000                 0.000000       0.000000   \n",
              "25%          0.000000                 0.000000       0.000000   \n",
              "50%          1.000000                 7.500000       0.000000   \n",
              "75%          4.000000                93.256250       0.000000   \n",
              "max         27.000000              3398.750000      24.000000   \n",
              "\n",
              "       Informational_Duration  ProductRelated  ProductRelated_Duration  \\\n",
              "count            12330.000000    12330.000000             12330.000000   \n",
              "mean                34.472398       31.731468              1194.746220   \n",
              "std                140.749294       44.475503              1913.669288   \n",
              "min                  0.000000        0.000000                 0.000000   \n",
              "25%                  0.000000        7.000000               184.137500   \n",
              "50%                  0.000000       18.000000               598.936905   \n",
              "75%                  0.000000       38.000000              1464.157214   \n",
              "max               2549.375000      705.000000             63973.522230   \n",
              "\n",
              "        BounceRates     ExitRates    PageValues    SpecialDay         Month  \\\n",
              "count  12330.000000  12330.000000  12330.000000  12330.000000  12330.000000   \n",
              "mean       0.022191      0.043073      5.889258      0.061427      7.651987   \n",
              "std        0.048488      0.048597     18.568437      0.198917      3.392841   \n",
              "min        0.000000      0.000000      0.000000      0.000000      2.000000   \n",
              "25%        0.000000      0.014286      0.000000      0.000000      5.000000   \n",
              "50%        0.003112      0.025156      0.000000      0.000000      7.000000   \n",
              "75%        0.016813      0.050000      0.000000      0.000000     11.000000   \n",
              "max        0.200000      0.200000    361.763742      1.000000     12.000000   \n",
              "\n",
              "       OperatingSystems       Browser        Region   TrafficType  \\\n",
              "count      12330.000000  12330.000000  12330.000000  12330.000000   \n",
              "mean           2.124006      2.357097      3.147364      4.069586   \n",
              "std            0.911325      1.717277      2.401591      4.025169   \n",
              "min            1.000000      1.000000      1.000000      1.000000   \n",
              "25%            2.000000      2.000000      1.000000      2.000000   \n",
              "50%            2.000000      2.000000      3.000000      2.000000   \n",
              "75%            3.000000      2.000000      4.000000      4.000000   \n",
              "max            8.000000     13.000000      9.000000     20.000000   \n",
              "\n",
              "        VisitorType       Weekend  \n",
              "count  12330.000000  12330.000000  \n",
              "mean       1.718329      0.232603  \n",
              "std        0.690759      0.422509  \n",
              "min        0.000000      0.000000  \n",
              "25%        2.000000      0.000000  \n",
              "50%        2.000000      0.000000  \n",
              "75%        2.000000      0.000000  \n",
              "max        2.000000      1.000000  "
            ]
          },
          "execution_count": 6,
          "metadata": {},
          "output_type": "execute_result"
        }
      ],
      "source": [
        "# Add code here\n",
        "g07_df.describe()\n"
      ]
    },
    {
      "cell_type": "code",
      "execution_count": 7,
      "metadata": {
        "id": "_6LvYnUN7FBh"
      },
      "outputs": [],
      "source": [
        "# Convert weekend column to numerical values (0 for False, 1 for True)\n",
        "g07_df[\"Weekend\"] = g07_df[\"Weekend\"].astype(int)\n",
        "# Convert month column to numerical\n",
        "g07_df[\"Month\"] = g07_df[\"Month\"].map(\n",
        "    {\n",
        "        \"Feb\": 2,\n",
        "        \"Mar\": 3,\n",
        "        \"May\": 5,\n",
        "        \"June\": 6,\n",
        "        \"Jul\": 7,\n",
        "        \"Aug\": 8,\n",
        "        \"Sep\": 9,\n",
        "        \"Oct\": 10,\n",
        "        \"Nov\": 11,\n",
        "        \"Dec\": 12,\n",
        "    }\n",
        ")\n"
      ]
    },
    {
      "cell_type": "code",
      "execution_count": 8,
      "metadata": {
        "id": "BcL8s9sf952j"
      },
      "outputs": [],
      "source": [
        "# Encode the Visitor Type column\n",
        "from sklearn.preprocessing import LabelEncoder\n",
        "\n",
        "g07_df[\"VisitorType\"] = LabelEncoder().fit_transform(g07_df[\"VisitorType\"])\n"
      ]
    },
    {
      "cell_type": "code",
      "execution_count": 9,
      "metadata": {
        "colab": {
          "base_uri": "https://localhost:8080/",
          "height": 226
        },
        "id": "ofm0_z6z7wrD",
        "outputId": "3c8cc3c4-103d-41b4-9795-8d3488d4b28a"
      },
      "outputs": [
        {
          "data": {
            "text/html": [
              "<div>\n",
              "<style scoped>\n",
              "    .dataframe tbody tr th:only-of-type {\n",
              "        vertical-align: middle;\n",
              "    }\n",
              "\n",
              "    .dataframe tbody tr th {\n",
              "        vertical-align: top;\n",
              "    }\n",
              "\n",
              "    .dataframe thead th {\n",
              "        text-align: right;\n",
              "    }\n",
              "</style>\n",
              "<table border=\"1\" class=\"dataframe\">\n",
              "  <thead>\n",
              "    <tr style=\"text-align: right;\">\n",
              "      <th></th>\n",
              "      <th>Administrative</th>\n",
              "      <th>Administrative_Duration</th>\n",
              "      <th>Informational</th>\n",
              "      <th>Informational_Duration</th>\n",
              "      <th>ProductRelated</th>\n",
              "      <th>ProductRelated_Duration</th>\n",
              "      <th>BounceRates</th>\n",
              "      <th>ExitRates</th>\n",
              "      <th>PageValues</th>\n",
              "      <th>SpecialDay</th>\n",
              "      <th>Month</th>\n",
              "      <th>OperatingSystems</th>\n",
              "      <th>Browser</th>\n",
              "      <th>Region</th>\n",
              "      <th>TrafficType</th>\n",
              "      <th>VisitorType</th>\n",
              "      <th>Weekend</th>\n",
              "      <th>Revenue</th>\n",
              "    </tr>\n",
              "  </thead>\n",
              "  <tbody>\n",
              "    <tr>\n",
              "      <th>0</th>\n",
              "      <td>0</td>\n",
              "      <td>0.0</td>\n",
              "      <td>0</td>\n",
              "      <td>0.0</td>\n",
              "      <td>1</td>\n",
              "      <td>0.000000</td>\n",
              "      <td>0.20</td>\n",
              "      <td>0.20</td>\n",
              "      <td>0.0</td>\n",
              "      <td>0.0</td>\n",
              "      <td>NaN</td>\n",
              "      <td>1</td>\n",
              "      <td>1</td>\n",
              "      <td>1</td>\n",
              "      <td>1</td>\n",
              "      <td>2</td>\n",
              "      <td>0</td>\n",
              "      <td>False</td>\n",
              "    </tr>\n",
              "    <tr>\n",
              "      <th>1</th>\n",
              "      <td>0</td>\n",
              "      <td>0.0</td>\n",
              "      <td>0</td>\n",
              "      <td>0.0</td>\n",
              "      <td>2</td>\n",
              "      <td>64.000000</td>\n",
              "      <td>0.00</td>\n",
              "      <td>0.10</td>\n",
              "      <td>0.0</td>\n",
              "      <td>0.0</td>\n",
              "      <td>NaN</td>\n",
              "      <td>2</td>\n",
              "      <td>2</td>\n",
              "      <td>1</td>\n",
              "      <td>2</td>\n",
              "      <td>2</td>\n",
              "      <td>0</td>\n",
              "      <td>False</td>\n",
              "    </tr>\n",
              "    <tr>\n",
              "      <th>2</th>\n",
              "      <td>0</td>\n",
              "      <td>0.0</td>\n",
              "      <td>0</td>\n",
              "      <td>0.0</td>\n",
              "      <td>1</td>\n",
              "      <td>0.000000</td>\n",
              "      <td>0.20</td>\n",
              "      <td>0.20</td>\n",
              "      <td>0.0</td>\n",
              "      <td>0.0</td>\n",
              "      <td>NaN</td>\n",
              "      <td>4</td>\n",
              "      <td>1</td>\n",
              "      <td>9</td>\n",
              "      <td>3</td>\n",
              "      <td>2</td>\n",
              "      <td>0</td>\n",
              "      <td>False</td>\n",
              "    </tr>\n",
              "    <tr>\n",
              "      <th>3</th>\n",
              "      <td>0</td>\n",
              "      <td>0.0</td>\n",
              "      <td>0</td>\n",
              "      <td>0.0</td>\n",
              "      <td>2</td>\n",
              "      <td>2.666667</td>\n",
              "      <td>0.05</td>\n",
              "      <td>0.14</td>\n",
              "      <td>0.0</td>\n",
              "      <td>0.0</td>\n",
              "      <td>NaN</td>\n",
              "      <td>3</td>\n",
              "      <td>2</td>\n",
              "      <td>2</td>\n",
              "      <td>4</td>\n",
              "      <td>2</td>\n",
              "      <td>0</td>\n",
              "      <td>False</td>\n",
              "    </tr>\n",
              "    <tr>\n",
              "      <th>4</th>\n",
              "      <td>0</td>\n",
              "      <td>0.0</td>\n",
              "      <td>0</td>\n",
              "      <td>0.0</td>\n",
              "      <td>10</td>\n",
              "      <td>627.500000</td>\n",
              "      <td>0.02</td>\n",
              "      <td>0.05</td>\n",
              "      <td>0.0</td>\n",
              "      <td>0.0</td>\n",
              "      <td>NaN</td>\n",
              "      <td>3</td>\n",
              "      <td>3</td>\n",
              "      <td>1</td>\n",
              "      <td>4</td>\n",
              "      <td>2</td>\n",
              "      <td>1</td>\n",
              "      <td>False</td>\n",
              "    </tr>\n",
              "  </tbody>\n",
              "</table>\n",
              "</div>"
            ],
            "text/plain": [
              "   Administrative  Administrative_Duration  Informational  \\\n",
              "0               0                      0.0              0   \n",
              "1               0                      0.0              0   \n",
              "2               0                      0.0              0   \n",
              "3               0                      0.0              0   \n",
              "4               0                      0.0              0   \n",
              "\n",
              "   Informational_Duration  ProductRelated  ProductRelated_Duration  \\\n",
              "0                     0.0               1                 0.000000   \n",
              "1                     0.0               2                64.000000   \n",
              "2                     0.0               1                 0.000000   \n",
              "3                     0.0               2                 2.666667   \n",
              "4                     0.0              10               627.500000   \n",
              "\n",
              "   BounceRates  ExitRates  PageValues  SpecialDay  Month  OperatingSystems  \\\n",
              "0         0.20       0.20         0.0         0.0    NaN                 1   \n",
              "1         0.00       0.10         0.0         0.0    NaN                 2   \n",
              "2         0.20       0.20         0.0         0.0    NaN                 4   \n",
              "3         0.05       0.14         0.0         0.0    NaN                 3   \n",
              "4         0.02       0.05         0.0         0.0    NaN                 3   \n",
              "\n",
              "   Browser  Region  TrafficType  VisitorType  Weekend  Revenue  \n",
              "0        1       1            1            2        0    False  \n",
              "1        2       1            2            2        0    False  \n",
              "2        1       9            3            2        0    False  \n",
              "3        2       2            4            2        0    False  \n",
              "4        3       1            4            2        1    False  "
            ]
          },
          "execution_count": 9,
          "metadata": {},
          "output_type": "execute_result"
        }
      ],
      "source": [
        "g07_df.head(5)\n"
      ]
    },
    {
      "cell_type": "code",
      "execution_count": 52,
      "metadata": {
        "id": "84K-Lw4QAHsG"
      },
      "outputs": [],
      "source": [
        "# g07_df.to_csv(\"a3_cleaned_data.csv\", index=False)\n"
      ]
    },
    {
      "cell_type": "markdown",
      "metadata": {
        "id": "67Z5mG8ZsbmS"
      },
      "source": [
        "### 6.3 Split the dataset into a Training set and a Test set. Justify your preferred split (3 Points).\n"
      ]
    },
    {
      "cell_type": "code",
      "execution_count": 7,
      "metadata": {},
      "outputs": [],
      "source": [
        "# Read the cleaned dataset\n",
        "g07_df = pd.read_csv(\"../Data/Cleaned/a3_cleaned_data.csv\")\n"
      ]
    },
    {
      "cell_type": "code",
      "execution_count": 11,
      "metadata": {
        "id": "7LoXZmmxsc_X"
      },
      "outputs": [],
      "source": [
        "from sklearn.model_selection import train_test_split\n",
        "\n",
        "random_seed = 6135  # last 4 digits of guid\n",
        "X = g07_df.iloc[:, 0:-1]\n",
        "y = g07_df.iloc[:, -1]\n",
        "# split the train and test set at a 80/20 ratio\n",
        "X_train, X_test, y_train, y_test = train_test_split(\n",
        "    X, y, test_size=0.2, random_state=random_seed\n",
        ")\n"
      ]
    },
    {
      "cell_type": "markdown",
      "metadata": {
        "id": "XavGwcoWse9U"
      },
      "source": [
        "## 7 Classification Routine (12 Points):\n",
        "\n",
        "Execute a classification routine using RandomForestClassifier(), BaggingClassifier(), and XGboostclassifier(). Independently output the accuracy box plot as discussed in class. Use any package you are comfortable with (seaborn, matplotlib).\n"
      ]
    },
    {
      "cell_type": "code",
      "execution_count": 12,
      "metadata": {
        "id": "9suYRZ0z2xfc"
      },
      "outputs": [],
      "source": [
        "import matplotlib.pyplot as plt\n",
        "import seaborn as sns\n",
        "from sklearn.model_selection import train_test_split\n",
        "from sklearn.ensemble import RandomForestClassifier, BaggingClassifier\n",
        "from xgboost import XGBClassifier\n",
        "from sklearn.metrics import accuracy_score\n",
        "from sklearn.model_selection import RepeatedKFold, cross_val_score\n"
      ]
    },
    {
      "cell_type": "code",
      "execution_count": 13,
      "metadata": {
        "id": "rQGIzB6A4n3t"
      },
      "outputs": [],
      "source": [
        "# Define the general routine for all classification models\n",
        "def perform_classification_routine(model, X_train, y_train):\n",
        "    cv = RepeatedKFold(n_splits=5, n_repeats=3, random_state=1)\n",
        "    scores = cross_val_score(\n",
        "        model, X_train, y_train, scoring=\"accuracy\", cv=cv, n_jobs=-1\n",
        "    )\n",
        "    return scores\n"
      ]
    },
    {
      "cell_type": "code",
      "execution_count": 14,
      "metadata": {},
      "outputs": [],
      "source": [
        "# Define plotting the resulting boxplot\n",
        "def plot_boxplot(result):\n",
        "    # set the size of the figure\n",
        "    plt.figure(figsize=(12, 8))\n",
        "    # plot the boxplot\n",
        "    sns.boxplot(data=pd.DataFrame(result), orient=\"h\")\n",
        "    # add the title and axis labels\n",
        "    plt.title(\"Accuracy of Classifiers\")\n",
        "    plt.xlabel(\"Accuracy\")\n",
        "    plt.ylabel(\"Classifier\")\n",
        "    plt.show()\n"
      ]
    },
    {
      "cell_type": "markdown",
      "metadata": {},
      "source": [
        "### 7.1 RandomForestClassifier()\n"
      ]
    },
    {
      "cell_type": "code",
      "execution_count": 26,
      "metadata": {},
      "outputs": [
        {
          "data": {
            "image/png": "[encoded data removed]",
            "text/plain": [
              "<Figure size 1200x800 with 1 Axes>"
            ]
          },
          "metadata": {},
          "output_type": "display_data"
        }
      ],
      "source": [
        "# Define the model\n",
        "model_g07 = RandomForestClassifier(random_state=random_seed)\n",
        "result = dict()\n",
        "result[\"RF\"] = perform_classification_routine(model_g07, X_train, y_train)\n",
        "\n",
        "# Plotting the accuracy box plot\n",
        "plot_boxplot(result)\n"
      ]
    },
    {
      "cell_type": "markdown",
      "metadata": {},
      "source": [
        "### 7.2 BaggingClassifier()\n"
      ]
    },
    {
      "cell_type": "code",
      "execution_count": 16,
      "metadata": {},
      "outputs": [
        {
          "data": {
            "image/png": "[encoded data removed]",
            "text/plain": [
              "<Figure size 864x576 with 1 Axes>"
            ]
          },
          "metadata": {
            "needs_background": "light"
          },
          "output_type": "display_data"
        }
      ],
      "source": [
        "# Define the model\n",
        "model_g07 = BaggingClassifier()\n",
        "result = dict()\n",
        "result[\"Bagging\"] = perform_classification_routine(model_g07, X_train, y_train)\n",
        "\n",
        "# Plotting the accuracy box plot\n",
        "plot_boxplot(result)\n"
      ]
    },
    {
      "cell_type": "markdown",
      "metadata": {},
      "source": [
        "### 7.3 XGboostclassifier()\n"
      ]
    },
    {
      "cell_type": "code",
      "execution_count": 17,
      "metadata": {},
      "outputs": [
        {
          "data": {
            "image/png": "[encoded data removed]",
            "text/plain": [
              "<Figure size 864x576 with 1 Axes>"
            ]
          },
          "metadata": {
            "needs_background": "light"
          },
          "output_type": "display_data"
        }
      ],
      "source": [
        "# Define the model\n",
        "model_g07 = XGBClassifier()\n",
        "result = dict()\n",
        "result[\"XGB\"] = perform_classification_routine(model_g07, X_train, y_train)\n",
        "\n",
        "# Plotting the accuracy box plot\n",
        "plot_boxplot(result)\n"
      ]
    },
    {
      "cell_type": "code",
      "execution_count": 2,
      "metadata": {
        "id": "C4jjNhtl_cWZ"
      },
      "outputs": [],
      "source": [
        "import platform\n"
      ]
    },
    {
      "cell_type": "code",
      "execution_count": 3,
      "metadata": {
        "colab": {
          "base_uri": "https://localhost:8080/"
        },
        "id": "820eC-jl_Prj",
        "outputId": "580a1f08-2a57-447c-abf0-71895203227a"
      },
      "outputs": [
        {
          "name": "stdout",
          "output_type": "stream",
          "text": [
            "System: Darwin\n",
            "Node Name: hongshudediannao.local\n",
            "Release: 22.6.0\n",
            "Version: Darwin Kernel Version 22.6.0: Wed Jul  5 22:17:35 PDT 2023; root:xnu-8796.141.3~6/RELEASE_ARM64_T8112\n",
            "Machine: arm64\n",
            "Processor: arm\n",
            "Author of above content: Zixuan Li -- zl483\n"
          ]
        }
      ],
      "source": [
        "#### DO NOT RUN THIS CELL AGAIN\n",
        "my_system = platform.uname()\n",
        "print(f\"System: {my_system.system}\")\n",
        "print(f\"Node Name: {my_system.node}\")\n",
        "print(f\"Release: {my_system.release}\")\n",
        "print(f\"Version: {my_system.version}\")\n",
        "print(f\"Machine: {my_system.machine}\")\n",
        "print(f\"Processor: {my_system.processor}\")\n",
        "print(\"Author of above content: Zixuan Li -- zl483\")\n"
      ]
    },
    {
      "cell_type": "markdown",
      "metadata": {},
      "source": [
        "### According to the results of the three above models, the model with the best performance is the random forest classifier. Therefore, we will do hyperparameter tuning on this model.\n"
      ]
    },
    {
      "cell_type": "markdown",
      "metadata": {
        "id": "bT5a4tNOswbV"
      },
      "source": [
        "## 8 Classification with GridSearchCV (8 Points):\n",
        "\n",
        "Replicate the classification from Q2 using GridsearchCV().\n"
      ]
    },
    {
      "cell_type": "code",
      "execution_count": 24,
      "metadata": {},
      "outputs": [
        {
          "name": "stdout",
          "output_type": "stream",
          "text": [
            "Best Hyperparameters: {'max_depth': 15, 'max_features': 'log2', 'max_leaf_nodes': 60, 'max_samples': None, 'min_samples_leaf': 1, 'min_samples_split': 2, 'n_estimators': 50}\n",
            "Best Accuracy: 0.9077448701486291\n"
          ]
        }
      ],
      "source": [
        "from sklearn.model_selection import GridSearchCV\n",
        "\n",
        "# get the model\n",
        "model_g07 = RandomForestClassifier(random_state=random_seed)\n",
        "\n",
        "# define the hyperparameter space for grid search\n",
        "param_grid = {\n",
        "    \"n_estimators\": [20, 50, 100, 200],  # the number of trees in the forest\n",
        "    \"max_depth\": [5, 10, 15, 20],  # the max depth of a tree\n",
        "    \"min_samples_split\": [\n",
        "        2,\n",
        "        5,\n",
        "        10,\n",
        "    ],  # the minimum number of samples required to split an internal node\n",
        "    \"min_samples_leaf\": [\n",
        "        1,\n",
        "        4,\n",
        "        8,\n",
        "        16,\n",
        "    ],  # the minimum number of samples required to be at a leaf node\n",
        "    \"max_features\": [\"log2\", \"sqrt\"],  # the number of max features\n",
        "    \"max_leaf_nodes\": [10, 20, 40, 60, 80],  # the number of max leaf nodes\n",
        "    \"max_samples\": [None, 1000, 5000],  # the number of max samples during bootstrap\n",
        "}\n",
        "\n",
        "# initialize the grid search\n",
        "grid_search = GridSearchCV(\n",
        "    estimator=model_g07, param_grid=param_grid, cv=5, scoring=\"accuracy\", n_jobs=-1\n",
        ")\n",
        "# do grid search\n",
        "grid_search.fit(X_train, y_train)\n",
        "# print the result of the grid search\n",
        "print(\"Best Hyperparameters:\", grid_search.best_params_)\n",
        "print(\"Best Accuracy:\", grid_search.best_score_)\n"
      ]
    },
    {
      "cell_type": "code",
      "execution_count": 25,
      "metadata": {
        "id": "KSQdi5VKsxOK"
      },
      "outputs": [
        {
          "data": {
            "image/png": "[encoded data removed]",
            "text/plain": [
              "<Figure size 1200x800 with 1 Axes>"
            ]
          },
          "metadata": {},
          "output_type": "display_data"
        }
      ],
      "source": [
        "# Plot the boxplot of the best parameter\n",
        "model_g07 = RandomForestClassifier(\n",
        "    max_depth=15,\n",
        "    max_features=\"log2\",\n",
        "    max_leaf_nodes=60,\n",
        "    max_samples=None,\n",
        "    min_samples_leaf=1,\n",
        "    min_samples_split=2,\n",
        "    n_estimators=50,\n",
        "    random_state=random_seed,\n",
        ")\n",
        "result = dict()\n",
        "result[\"RF_opt\"] = perform_classification_routine(model_g07, X_train, y_train)\n",
        "\n",
        "# Plotting the accuracy box plot\n",
        "plot_boxplot(result)\n"
      ]
    },
    {
      "cell_type": "code",
      "execution_count": 29,
      "metadata": {},
      "outputs": [
        {
          "name": "stdout",
          "output_type": "stream",
          "text": [
            "System: Windows\n",
            "Node Name: LAPTOP-0I70UK1V\n",
            "Release: 10\n",
            "Version: 10.0.19045\n",
            "Machine: AMD64\n",
            "Processor: AMD64 Family 25 Model 80 Stepping 0, AuthenticAMD\n",
            "Author of above content: Tianqi Zhou -- tz232\n"
          ]
        }
      ],
      "source": [
        "#### DO NOT RUN THIS CELL AGAIN\n",
        "my_system = platform.uname()\n",
        "print(f\"System: {my_system.system}\")\n",
        "print(f\"Node Name: {my_system.node}\")\n",
        "print(f\"Release: {my_system.release}\")\n",
        "print(f\"Version: {my_system.version}\")\n",
        "print(f\"Machine: {my_system.machine}\")\n",
        "print(f\"Processor: {my_system.processor}\")\n",
        "print(\"Author of above content: Tianqi Zhou -- tz232\")\n"
      ]
    },
    {
      "cell_type": "markdown",
      "metadata": {
        "id": "iKH_hk7esxUT"
      },
      "source": [
        "## 9 Classification with RandomSearchCV (8 Points):\n",
        "\n",
        "Replicate the classification from Q2 using RandomSearchCV().\n"
      ]
    },
    {
      "cell_type": "code",
      "execution_count": 32,
      "metadata": {
        "id": "1sB_okOJs0CH"
      },
      "outputs": [
        {
          "name": "stdout",
          "output_type": "stream",
          "text": [
            "Best Hyperparameters: {'n_estimators': 50, 'min_samples_split': 2, 'min_samples_leaf': 4, 'max_samples': 5000, 'max_leaf_nodes': 60, 'max_features': 'log2', 'max_depth': 10}\n",
            "Best Accuracy: 0.9076438615014665\n"
          ]
        }
      ],
      "source": [
        "from sklearn.model_selection import RandomizedSearchCV\n",
        "\n",
        "# Get the model\n",
        "model_g07 = RandomForestClassifier(random_state=random_seed)\n",
        "\n",
        "# Define the hyperparameter space for random search\n",
        "param_dist = {\n",
        "    \"n_estimators\": [20, 50, 100, 200],  # Number of trees in the forest\n",
        "    \"max_depth\": [5, 10, 15, 20],  # Maximum depth of a tree\n",
        "    \"min_samples_split\": [\n",
        "        2,\n",
        "        5,\n",
        "        10,\n",
        "    ],  # Minimum number of samples required to split an internal node\n",
        "    \"min_samples_leaf\": [\n",
        "        1,\n",
        "        4,\n",
        "        8,\n",
        "        16,\n",
        "    ],  # Minimum number of samples required to be at a leaf node\n",
        "    \"max_features\": [\n",
        "        \"log2\",\n",
        "        \"sqrt\",\n",
        "    ],  # Maximum number of features to consider for the best split\n",
        "    \"max_leaf_nodes\": [10, 20, 40, 60, 80],  # Maximum number of leaf nodes\n",
        "    \"max_samples\": [None, 1000, 5000],  # Number of samples to draw during bootstrap\n",
        "}\n",
        "\n",
        "# Initialize the random search\n",
        "random_search = RandomizedSearchCV(\n",
        "    estimator=model_g07,\n",
        "    param_distributions=param_dist,\n",
        "    n_iter=500,\n",
        "    cv=5,\n",
        "    scoring=\"accuracy\",\n",
        "    n_jobs=-1,\n",
        "    random_state=random_seed,\n",
        ")\n",
        "\n",
        "# Perform random search\n",
        "random_search.fit(X_train, y_train)\n",
        "\n",
        "# Print the result of the random search\n",
        "print(\"Best Hyperparameters:\", random_search.best_params_)\n",
        "print(\"Best Accuracy:\", random_search.best_score_)\n"
      ]
    },
    {
      "cell_type": "code",
      "execution_count": 33,
      "metadata": {},
      "outputs": [
        {
          "data": {
            "image/png": "[encoded data removed]",
            "text/plain": [
              "<Figure size 1200x800 with 1 Axes>"
            ]
          },
          "metadata": {},
          "output_type": "display_data"
        }
      ],
      "source": [
        "# Plot the boxplot of the best parameter\n",
        "model_g07 = RandomForestClassifier(\n",
        "    n_estimators=50,\n",
        "    min_samples_split=2,\n",
        "    min_samples_leaf=4,\n",
        "    max_samples=5000,\n",
        "    max_leaf_nodes=60,\n",
        "    max_features=\"log2\",\n",
        "    max_depth=10,\n",
        "    random_state=random_seed,\n",
        ")\n",
        "\n",
        "result = dict()\n",
        "result[\"RF_opt\"] = perform_classification_routine(model_g07, X_train, y_train)\n",
        "\n",
        "# Plotting the accuracy box plot\n",
        "plot_boxplot(result)\n"
      ]
    },
    {
      "cell_type": "code",
      "execution_count": 27,
      "metadata": {},
      "outputs": [
        {
          "name": "stdout",
          "output_type": "stream",
          "text": [
            "System: Darwin\n",
            "Node Name: wuyifeideMacBook-Pro-2.local\n",
            "Release: 22.5.0\n",
            "Version: Darwin Kernel Version 22.5.0: Thu Jun  8 22:22:20 PDT 2023; root:xnu-8796.121.3~7/RELEASE_ARM64_T6000\n",
            "Machine: x86_64\n",
            "Processor: i386\n",
            "Author of above content: Yifei Wu  -- yw924\n"
          ]
        }
      ],
      "source": [
        "#### DO NOT RUN THIS CELL AGAIN\n",
        "my_system = platform.uname()\n",
        "print(f\"System: {my_system.system}\")\n",
        "print(f\"Node Name: {my_system.node}\")\n",
        "print(f\"Release: {my_system.release}\")\n",
        "print(f\"Version: {my_system.version}\")\n",
        "print(f\"Machine: {my_system.machine}\")\n",
        "print(f\"Processor: {my_system.processor}\")\n",
        "print(\"Author of above content: Yifei Wu  -- yw924\")\n"
      ]
    },
    {
      "cell_type": "markdown",
      "metadata": {
        "id": "0x2Uc_AGs09z"
      },
      "source": [
        "## 10 Comparison and Analysis (5 Points):\n",
        "\n",
        "Compare the results from Q2, Q3, and Q4. Describe the best hyperparameters for all three experiments.\n"
      ]
    },
    {
      "cell_type": "markdown",
      "metadata": {},
      "source": [
        "According to the boxplot of the results of the cross-validation, the random forest classifier from Q2 with no hyperparameter tuning has a median accuracy of around 0.901 and an accuracy range of around (0.8945, 0.9135). The random forest classifier from Q3 with hyperparameter tuning using grid search has a median accuracy of around 0.9038 and an accuracy range of around (0.896, 0.909). The random forest classifier from Q4 with hyperparameter tuing using random search has a median accuracy of around 0.9026 and an accuracy range of around (0.8950, 0.912). Based on these observations, we can conclude that with hyperparameter tuning, we can have a higher median accuracy and smaller variation. Moreover, there're differences between the hyperparameters chosen by grid search and random search. Grid search compares all possible parameter combos, therefore takes much longer but has a better performance. Random search requires large numbers of iterations to get a similar result but is faster. In real life, it might be impossible to use grid search due to computational complexity, so random search may be a good choice.\n"
      ]
    }
  ],
  "metadata": {
    "colab": {
      "provenance": []
    },
    "kernelspec": {
      "display_name": "Python 3.9.12 ('base')",
      "language": "python",
      "name": "python3"
    },
    "language_info": {
      "codemirror_mode": {
        "name": "ipython",
        "version": 3
      },
      "file_extension": ".py",
      "mimetype": "text/x-python",
      "name": "python",
      "nbconvert_exporter": "python",
      "pygments_lexer": "ipython3",
      "version": "3.11.1"
    },
    "vscode": {
      "interpreter": {
        "hash": "9880b4128bd382861afa666f113ba31dc6171dcd6c25e5016f48e83331f8b455"
      }
    }
  },
  "nbformat": 4,
  "nbformat_minor": 0
}
